{
 "cells": [
  {
   "cell_type": "code",
   "execution_count": 21,
   "metadata": {},
   "outputs": [],
   "source": [
    "import pdfplumber\n",
    "from pathlib import Path\n",
    "import pandas as pd\n",
    "from operator import itemgetter\n",
    "import json\n",
    "import os\n",
    "from dotenv import load_dotenv\n",
    "load_dotenv()\n",
    "\n",
    "api_key = os.getenv(\"GROQ_API_KEY\")"
   ]
  },
  {
   "cell_type": "markdown",
   "metadata": {},
   "source": [
    "# Data Preprocessing "
   ]
  },
  {
   "cell_type": "code",
   "execution_count": 22,
   "metadata": {},
   "outputs": [],
   "source": [
    "single_pdf_path = \"/home/kamal/Desktop/HelpMateAI/app/data/Principal-Sample-Life-Insurance-Policy.pdf\""
   ]
  },
  {
   "cell_type": "code",
   "execution_count": 23,
   "metadata": {},
   "outputs": [
    {
     "name": "stdout",
     "output_type": "stream",
     "text": [
      "/home/kamal/Desktop\n"
     ]
    },
    {
     "name": "stderr",
     "output_type": "stream",
     "text": [
      "/home/kamal/Desktop/HelpMateAI/.venv/lib/python3.12/site-packages/IPython/core/magics/osm.py:417: UserWarning: This is now an optional IPython functionality, setting dhist requires you to install the `pickleshare` library.\n",
      "  self.shell.db['dhist'] = compress_dhist(dhist)[-100:]\n"
     ]
    }
   ],
   "source": [
    "cd .."
   ]
  },
  {
   "cell_type": "code",
   "execution_count": 24,
   "metadata": {},
   "outputs": [],
   "source": [
    "from app.helpmateAI.services.dataextraction import extract_text_from_pdf"
   ]
  },
  {
   "cell_type": "code",
   "execution_count": 25,
   "metadata": {},
   "outputs": [],
   "source": [
    "df = extract_text_from_pdf(single_pdf_path=single_pdf_path)"
   ]
  },
  {
   "cell_type": "code",
   "execution_count": 26,
   "metadata": {},
   "outputs": [
    {
     "data": {
      "text/plain": [
       "'Principal-Sample-Life-Insurance-Policy.pdf'"
      ]
     },
     "execution_count": 26,
     "metadata": {},
     "output_type": "execute_result"
    }
   ],
   "source": [
    "import os\n",
    "documents_name = os.listdir(\"/home/kamal/Desktop/HelpMateAI/app/data\")\n",
    "doc_name = documents_name[0]\n",
    "doc_name"
   ]
  },
  {
   "cell_type": "code",
   "execution_count": 27,
   "metadata": {},
   "outputs": [],
   "source": [
    "# document name column created\n",
    "df['document_name'] = doc_name"
   ]
  },
  {
   "cell_type": "code",
   "execution_count": 28,
   "metadata": {},
   "outputs": [],
   "source": [
    "## function to count word of the sentences\n",
    "def text_count(text):\n",
    "    words = text.strip().split()\n",
    "    words_count = len(words)\n",
    "    return words_count"
   ]
  },
  {
   "cell_type": "code",
   "execution_count": 29,
   "metadata": {},
   "outputs": [],
   "source": [
    "## total pages numbers\n",
    "df[\"total_words\"] = df[\"page_context\"].apply(lambda x: text_count(x))"
   ]
  },
  {
   "cell_type": "code",
   "execution_count": 30,
   "metadata": {},
   "outputs": [
    {
     "data": {
      "text/plain": [
       "(60, 4)"
      ]
     },
     "execution_count": 30,
     "metadata": {},
     "output_type": "execute_result"
    }
   ],
   "source": [
    "## filtered data which has more than total 10 words\n",
    "df = df[df[\"total_words\"] >= 10]\n",
    "df.shape"
   ]
  },
  {
   "cell_type": "code",
   "execution_count": 31,
   "metadata": {},
   "outputs": [],
   "source": [
    "# Store the metadata for each page in a separate column\n",
    "file_name = df[\"document_name\"][0][:-4]\n",
    "df[\"metadata\"] =df.apply(lambda x: {\"Policy_Name\":file_name, \"Page_No.\":x[\"page_number\"]}, axis=1)"
   ]
  },
  {
   "cell_type": "markdown",
   "metadata": {},
   "source": [
    "## ChromaDB"
   ]
  },
  {
   "cell_type": "code",
   "execution_count": 37,
   "metadata": {},
   "outputs": [],
   "source": [
    "from app.helpmateAI.services.chromadb import create_and_store_chromadb_data\n",
    "\n",
    "chromadb_collection = create_and_store_chromadb_data(chromadb_name=\"HelpMateAI_collection\",\n",
    "                                                     db_path=\"/home/kamal/Desktop/HelpMateAI/app/db/chromadb/\",\n",
    "                                                     dataframe=df\n",
    "                                                     )"
   ]
  },
  {
   "cell_type": "code",
   "execution_count": 38,
   "metadata": {},
   "outputs": [
    {
     "data": {
      "text/plain": [
       "'HelpMateAI_collection'"
      ]
     },
     "execution_count": 38,
     "metadata": {},
     "output_type": "execute_result"
    }
   ],
   "source": [
    "chromadb_collection.name"
   ]
  },
  {
   "cell_type": "code",
   "execution_count": 39,
   "metadata": {},
   "outputs": [
    {
     "data": {
      "text/plain": [
       "60"
      ]
     },
     "execution_count": 39,
     "metadata": {},
     "output_type": "execute_result"
    }
   ],
   "source": [
    "chromadb_collection.count()"
   ]
  },
  {
   "cell_type": "markdown",
   "metadata": {},
   "source": [
    "# cachedb"
   ]
  },
  {
   "cell_type": "code",
   "execution_count": 40,
   "metadata": {},
   "outputs": [],
   "source": [
    "from app.helpmateAI.services.cache import initialize_cache_chromadb\n",
    "\n",
    "cache_collection = initialize_cache_chromadb(chromadb_name=\"HelpMate_cache_collection\",\n",
    "                                             db_path=\"/home/kamal/Desktop/HelpMateAI/app/db/chromadb_cache/\")"
   ]
  },
  {
   "cell_type": "code",
   "execution_count": 41,
   "metadata": {},
   "outputs": [
    {
     "data": {
      "text/plain": [
       "'HelpMate_cache_collection'"
      ]
     },
     "execution_count": 41,
     "metadata": {},
     "output_type": "execute_result"
    }
   ],
   "source": [
    "cache_collection.name"
   ]
  },
  {
   "cell_type": "markdown",
   "metadata": {},
   "source": [
    "# sementic search with cachedb"
   ]
  },
  {
   "cell_type": "code",
   "execution_count": 42,
   "metadata": {},
   "outputs": [],
   "source": [
    "# Query the collection against the user query and return the top 20 results\n",
    "\n",
    "# query = \"what is death policy\"\n",
    "# query = \"What purpose do the Certificates serve regarding insurance?\"\n",
    "query = \"When can The Principal inspect the Policyholder records related to the Group Policy?\"\n",
    "cache_results = cache_collection.query(\n",
    "    query_texts=[query],\n",
    "    n_results=1\n",
    ")"
   ]
  },
  {
   "cell_type": "markdown",
   "metadata": {},
   "source": [
    "# cache initializtion"
   ]
  },
  {
   "cell_type": "code",
   "execution_count": 43,
   "metadata": {},
   "outputs": [
    {
     "name": "stdout",
     "output_type": "stream",
     "text": [
      "Not found in cache. Found in main collections\n"
     ]
    }
   ],
   "source": [
    "from app.helpmateAI.services.cache import generate_cache_initialized_dataframe\n",
    "\n",
    "result_df = generate_cache_initialized_dataframe(query=query,\n",
    "                                     threshold=0.2,\n",
    "                                     chromadb_obj=chromadb_collection,\n",
    "                                     cache_query_results=cache_results,\n",
    "                                     cache_collector_obj=cache_collection,\n",
    "                                     )"
   ]
  },
  {
   "cell_type": "code",
   "execution_count": 44,
   "metadata": {},
   "outputs": [
    {
     "data": {
      "text/html": [
       "<div>\n",
       "<style scoped>\n",
       "    .dataframe tbody tr th:only-of-type {\n",
       "        vertical-align: middle;\n",
       "    }\n",
       "\n",
       "    .dataframe tbody tr th {\n",
       "        vertical-align: top;\n",
       "    }\n",
       "\n",
       "    .dataframe thead th {\n",
       "        text-align: right;\n",
       "    }\n",
       "</style>\n",
       "<table border=\"1\" class=\"dataframe\">\n",
       "  <thead>\n",
       "    <tr style=\"text-align: right;\">\n",
       "      <th></th>\n",
       "      <th>Metadatas</th>\n",
       "      <th>Documents</th>\n",
       "      <th>Distances</th>\n",
       "      <th>IDs</th>\n",
       "    </tr>\n",
       "  </thead>\n",
       "  <tbody>\n",
       "    <tr>\n",
       "      <th>0</th>\n",
       "      <td>{'Page_No.': 'Page 16', 'Policy_Name': 'Princi...</td>\n",
       "      <td>PART II - POLICY ADMINISTRATION Section A - Co...</td>\n",
       "      <td>0.842683</td>\n",
       "      <td>ids-13</td>\n",
       "    </tr>\n",
       "    <tr>\n",
       "      <th>1</th>\n",
       "      <td>{'Page_No.': 'Page 19', 'Policy_Name': 'Princi...</td>\n",
       "      <td>T he Principal has complete discretion to cons...</td>\n",
       "      <td>0.911736</td>\n",
       "      <td>ids-16</td>\n",
       "    </tr>\n",
       "    <tr>\n",
       "      <th>2</th>\n",
       "      <td>{'Page_No.': 'Page 24', 'Policy_Name': 'Princi...</td>\n",
       "      <td>T he Principal may terminate the Policyholder'...</td>\n",
       "      <td>0.943317</td>\n",
       "      <td>ids-21</td>\n",
       "    </tr>\n",
       "    <tr>\n",
       "      <th>3</th>\n",
       "      <td>{'Page_No.': 'Page 5', 'Policy_Name': 'Princip...</td>\n",
       "      <td>PRINCIPAL LIFE INSURANCE COMPANY (called The P...</td>\n",
       "      <td>0.970175</td>\n",
       "      <td>ids-2</td>\n",
       "    </tr>\n",
       "    <tr>\n",
       "      <th>4</th>\n",
       "      <td>{'Page_No.': 'Page 18', 'Policy_Name': 'Princi...</td>\n",
       "      <td>c . a copy of the form which contains the stat...</td>\n",
       "      <td>1.075677</td>\n",
       "      <td>ids-15</td>\n",
       "    </tr>\n",
       "    <tr>\n",
       "      <th>5</th>\n",
       "      <td>{'Page_No.': 'Page 6', 'Policy_Name': 'Princip...</td>\n",
       "      <td>TABLE OF CONTENTS PART I - DEFINITIONS PART II...</td>\n",
       "      <td>1.098102</td>\n",
       "      <td>ids-3</td>\n",
       "    </tr>\n",
       "    <tr>\n",
       "      <th>6</th>\n",
       "      <td>{'Page_No.': 'Page 3', 'Policy_Name': 'Princip...</td>\n",
       "      <td>POLICY RIDER GROUP INSURANCE POLICY NO: S655 C...</td>\n",
       "      <td>1.098731</td>\n",
       "      <td>ids-1</td>\n",
       "    </tr>\n",
       "    <tr>\n",
       "      <th>7</th>\n",
       "      <td>{'Page_No.': 'Page 34', 'Policy_Name': 'Princi...</td>\n",
       "      <td>provided The Principal has been notified of th...</td>\n",
       "      <td>1.131059</td>\n",
       "      <td>ids-31</td>\n",
       "    </tr>\n",
       "    <tr>\n",
       "      <th>8</th>\n",
       "      <td>{'Page_No.': 'Page 22', 'Policy_Name': 'Princi...</td>\n",
       "      <td>The number of Members insured for Dependent Li...</td>\n",
       "      <td>1.183612</td>\n",
       "      <td>ids-19</td>\n",
       "    </tr>\n",
       "    <tr>\n",
       "      <th>9</th>\n",
       "      <td>{'Page_No.': 'Page 23', 'Policy_Name': 'Princi...</td>\n",
       "      <td>Section C - Policy Termination Article 1 - Fai...</td>\n",
       "      <td>1.185161</td>\n",
       "      <td>ids-20</td>\n",
       "    </tr>\n",
       "  </tbody>\n",
       "</table>\n",
       "</div>"
      ],
      "text/plain": [
       "                                           Metadatas  \\\n",
       "0  {'Page_No.': 'Page 16', 'Policy_Name': 'Princi...   \n",
       "1  {'Page_No.': 'Page 19', 'Policy_Name': 'Princi...   \n",
       "2  {'Page_No.': 'Page 24', 'Policy_Name': 'Princi...   \n",
       "3  {'Page_No.': 'Page 5', 'Policy_Name': 'Princip...   \n",
       "4  {'Page_No.': 'Page 18', 'Policy_Name': 'Princi...   \n",
       "5  {'Page_No.': 'Page 6', 'Policy_Name': 'Princip...   \n",
       "6  {'Page_No.': 'Page 3', 'Policy_Name': 'Princip...   \n",
       "7  {'Page_No.': 'Page 34', 'Policy_Name': 'Princi...   \n",
       "8  {'Page_No.': 'Page 22', 'Policy_Name': 'Princi...   \n",
       "9  {'Page_No.': 'Page 23', 'Policy_Name': 'Princi...   \n",
       "\n",
       "                                           Documents  Distances     IDs  \n",
       "0  PART II - POLICY ADMINISTRATION Section A - Co...   0.842683  ids-13  \n",
       "1  T he Principal has complete discretion to cons...   0.911736  ids-16  \n",
       "2  T he Principal may terminate the Policyholder'...   0.943317  ids-21  \n",
       "3  PRINCIPAL LIFE INSURANCE COMPANY (called The P...   0.970175   ids-2  \n",
       "4  c . a copy of the form which contains the stat...   1.075677  ids-15  \n",
       "5  TABLE OF CONTENTS PART I - DEFINITIONS PART II...   1.098102   ids-3  \n",
       "6  POLICY RIDER GROUP INSURANCE POLICY NO: S655 C...   1.098731   ids-1  \n",
       "7  provided The Principal has been notified of th...   1.131059  ids-31  \n",
       "8  The number of Members insured for Dependent Li...   1.183612  ids-19  \n",
       "9  Section C - Policy Termination Article 1 - Fai...   1.185161  ids-20  "
      ]
     },
     "execution_count": 44,
     "metadata": {},
     "output_type": "execute_result"
    }
   ],
   "source": [
    "result_df"
   ]
  },
  {
   "cell_type": "markdown",
   "metadata": {},
   "source": [
    "## Coress reranker"
   ]
  },
  {
   "cell_type": "code",
   "execution_count": 45,
   "metadata": {},
   "outputs": [
    {
     "name": "stderr",
     "output_type": "stream",
     "text": [
      "/home/kamal/Desktop/HelpMateAI/.venv/lib/python3.12/site-packages/tqdm/auto.py:21: TqdmWarning: IProgress not found. Please update jupyter and ipywidgets. See https://ipywidgets.readthedocs.io/en/stable/user_install.html\n",
      "  from .autonotebook import tqdm as notebook_tqdm\n",
      "2024-12-30 17:12:04.390956: E external/local_xla/xla/stream_executor/cuda/cuda_fft.cc:477] Unable to register cuFFT factory: Attempting to register factory for plugin cuFFT when one has already been registered\n",
      "WARNING: All log messages before absl::InitializeLog() is called are written to STDERR\n",
      "E0000 00:00:1735558924.717752   14712 cuda_dnn.cc:8310] Unable to register cuDNN factory: Attempting to register factory for plugin cuDNN when one has already been registered\n",
      "E0000 00:00:1735558924.938019   14712 cuda_blas.cc:1418] Unable to register cuBLAS factory: Attempting to register factory for plugin cuBLAS when one has already been registered\n"
     ]
    },
    {
     "data": {
      "text/plain": [
       "array([ 1.171242 ,  1.7042   ,  2.420164 ,  2.4954324,  3.2597113,\n",
       "       -7.2790937,  0.7326738, -1.1463788, -2.80421  ,  1.5917959],\n",
       "      dtype=float32)"
      ]
     },
     "execution_count": 45,
     "metadata": {},
     "output_type": "execute_result"
    }
   ],
   "source": [
    "from app.helpmateAI.services.reranker import sentence_cross_encoder\n",
    "\n",
    "reranker_score = sentence_cross_encoder(result_dataframe=result_df,\n",
    "                                        query=query)\n",
    "\n",
    "reranker_score"
   ]
  },
  {
   "cell_type": "markdown",
   "metadata": {},
   "source": [
    "## Top 3 generator"
   ]
  },
  {
   "cell_type": "code",
   "execution_count": 46,
   "metadata": {},
   "outputs": [],
   "source": [
    "from app.helpmateAI.services.retrieval import top_3_relevant_documents\n",
    "\n",
    "top_3_docs, reranker_docs = top_3_relevant_documents(cross_rerank_scores=reranker_score,result_df=result_df)"
   ]
  },
  {
   "cell_type": "code",
   "execution_count": 47,
   "metadata": {},
   "outputs": [
    {
     "data": {
      "text/html": [
       "<div>\n",
       "<style scoped>\n",
       "    .dataframe tbody tr th:only-of-type {\n",
       "        vertical-align: middle;\n",
       "    }\n",
       "\n",
       "    .dataframe tbody tr th {\n",
       "        vertical-align: top;\n",
       "    }\n",
       "\n",
       "    .dataframe thead th {\n",
       "        text-align: right;\n",
       "    }\n",
       "</style>\n",
       "<table border=\"1\" class=\"dataframe\">\n",
       "  <thead>\n",
       "    <tr style=\"text-align: right;\">\n",
       "      <th></th>\n",
       "      <th>Documents</th>\n",
       "      <th>Metadatas</th>\n",
       "    </tr>\n",
       "  </thead>\n",
       "  <tbody>\n",
       "    <tr>\n",
       "      <th>4</th>\n",
       "      <td>c . a copy of the form which contains the stat...</td>\n",
       "      <td>{'Page_No.': 'Page 18', 'Policy_Name': 'Princi...</td>\n",
       "    </tr>\n",
       "    <tr>\n",
       "      <th>3</th>\n",
       "      <td>PRINCIPAL LIFE INSURANCE COMPANY (called The P...</td>\n",
       "      <td>{'Page_No.': 'Page 5', 'Policy_Name': 'Princip...</td>\n",
       "    </tr>\n",
       "    <tr>\n",
       "      <th>2</th>\n",
       "      <td>T he Principal may terminate the Policyholder'...</td>\n",
       "      <td>{'Page_No.': 'Page 24', 'Policy_Name': 'Princi...</td>\n",
       "    </tr>\n",
       "  </tbody>\n",
       "</table>\n",
       "</div>"
      ],
      "text/plain": [
       "                                           Documents  \\\n",
       "4  c . a copy of the form which contains the stat...   \n",
       "3  PRINCIPAL LIFE INSURANCE COMPANY (called The P...   \n",
       "2  T he Principal may terminate the Policyholder'...   \n",
       "\n",
       "                                           Metadatas  \n",
       "4  {'Page_No.': 'Page 18', 'Policy_Name': 'Princi...  \n",
       "3  {'Page_No.': 'Page 5', 'Policy_Name': 'Princip...  \n",
       "2  {'Page_No.': 'Page 24', 'Policy_Name': 'Princi...  "
      ]
     },
     "execution_count": 47,
     "metadata": {},
     "output_type": "execute_result"
    }
   ],
   "source": [
    "top_3_docs"
   ]
  },
  {
   "cell_type": "code",
   "execution_count": 48,
   "metadata": {},
   "outputs": [
    {
     "data": {
      "text/html": [
       "<div>\n",
       "<style scoped>\n",
       "    .dataframe tbody tr th:only-of-type {\n",
       "        vertical-align: middle;\n",
       "    }\n",
       "\n",
       "    .dataframe tbody tr th {\n",
       "        vertical-align: top;\n",
       "    }\n",
       "\n",
       "    .dataframe thead th {\n",
       "        text-align: right;\n",
       "    }\n",
       "</style>\n",
       "<table border=\"1\" class=\"dataframe\">\n",
       "  <thead>\n",
       "    <tr style=\"text-align: right;\">\n",
       "      <th></th>\n",
       "      <th>Metadatas</th>\n",
       "      <th>Documents</th>\n",
       "      <th>Distances</th>\n",
       "      <th>IDs</th>\n",
       "      <th>Reranked_scores</th>\n",
       "    </tr>\n",
       "  </thead>\n",
       "  <tbody>\n",
       "    <tr>\n",
       "      <th>4</th>\n",
       "      <td>{'Page_No.': 'Page 18', 'Policy_Name': 'Princi...</td>\n",
       "      <td>c . a copy of the form which contains the stat...</td>\n",
       "      <td>1.075677</td>\n",
       "      <td>ids-15</td>\n",
       "      <td>3.259711</td>\n",
       "    </tr>\n",
       "    <tr>\n",
       "      <th>3</th>\n",
       "      <td>{'Page_No.': 'Page 5', 'Policy_Name': 'Princip...</td>\n",
       "      <td>PRINCIPAL LIFE INSURANCE COMPANY (called The P...</td>\n",
       "      <td>0.970175</td>\n",
       "      <td>ids-2</td>\n",
       "      <td>2.495432</td>\n",
       "    </tr>\n",
       "    <tr>\n",
       "      <th>2</th>\n",
       "      <td>{'Page_No.': 'Page 24', 'Policy_Name': 'Princi...</td>\n",
       "      <td>T he Principal may terminate the Policyholder'...</td>\n",
       "      <td>0.943317</td>\n",
       "      <td>ids-21</td>\n",
       "      <td>2.420164</td>\n",
       "    </tr>\n",
       "    <tr>\n",
       "      <th>1</th>\n",
       "      <td>{'Page_No.': 'Page 19', 'Policy_Name': 'Princi...</td>\n",
       "      <td>T he Principal has complete discretion to cons...</td>\n",
       "      <td>0.911736</td>\n",
       "      <td>ids-16</td>\n",
       "      <td>1.704200</td>\n",
       "    </tr>\n",
       "    <tr>\n",
       "      <th>9</th>\n",
       "      <td>{'Page_No.': 'Page 23', 'Policy_Name': 'Princi...</td>\n",
       "      <td>Section C - Policy Termination Article 1 - Fai...</td>\n",
       "      <td>1.185161</td>\n",
       "      <td>ids-20</td>\n",
       "      <td>1.591796</td>\n",
       "    </tr>\n",
       "    <tr>\n",
       "      <th>0</th>\n",
       "      <td>{'Page_No.': 'Page 16', 'Policy_Name': 'Princi...</td>\n",
       "      <td>PART II - POLICY ADMINISTRATION Section A - Co...</td>\n",
       "      <td>0.842683</td>\n",
       "      <td>ids-13</td>\n",
       "      <td>1.171242</td>\n",
       "    </tr>\n",
       "    <tr>\n",
       "      <th>6</th>\n",
       "      <td>{'Page_No.': 'Page 3', 'Policy_Name': 'Princip...</td>\n",
       "      <td>POLICY RIDER GROUP INSURANCE POLICY NO: S655 C...</td>\n",
       "      <td>1.098731</td>\n",
       "      <td>ids-1</td>\n",
       "      <td>0.732674</td>\n",
       "    </tr>\n",
       "    <tr>\n",
       "      <th>7</th>\n",
       "      <td>{'Page_No.': 'Page 34', 'Policy_Name': 'Princi...</td>\n",
       "      <td>provided The Principal has been notified of th...</td>\n",
       "      <td>1.131059</td>\n",
       "      <td>ids-31</td>\n",
       "      <td>-1.146379</td>\n",
       "    </tr>\n",
       "    <tr>\n",
       "      <th>8</th>\n",
       "      <td>{'Page_No.': 'Page 22', 'Policy_Name': 'Princi...</td>\n",
       "      <td>The number of Members insured for Dependent Li...</td>\n",
       "      <td>1.183612</td>\n",
       "      <td>ids-19</td>\n",
       "      <td>-2.804210</td>\n",
       "    </tr>\n",
       "    <tr>\n",
       "      <th>5</th>\n",
       "      <td>{'Page_No.': 'Page 6', 'Policy_Name': 'Princip...</td>\n",
       "      <td>TABLE OF CONTENTS PART I - DEFINITIONS PART II...</td>\n",
       "      <td>1.098102</td>\n",
       "      <td>ids-3</td>\n",
       "      <td>-7.279094</td>\n",
       "    </tr>\n",
       "  </tbody>\n",
       "</table>\n",
       "</div>"
      ],
      "text/plain": [
       "                                           Metadatas  \\\n",
       "4  {'Page_No.': 'Page 18', 'Policy_Name': 'Princi...   \n",
       "3  {'Page_No.': 'Page 5', 'Policy_Name': 'Princip...   \n",
       "2  {'Page_No.': 'Page 24', 'Policy_Name': 'Princi...   \n",
       "1  {'Page_No.': 'Page 19', 'Policy_Name': 'Princi...   \n",
       "9  {'Page_No.': 'Page 23', 'Policy_Name': 'Princi...   \n",
       "0  {'Page_No.': 'Page 16', 'Policy_Name': 'Princi...   \n",
       "6  {'Page_No.': 'Page 3', 'Policy_Name': 'Princip...   \n",
       "7  {'Page_No.': 'Page 34', 'Policy_Name': 'Princi...   \n",
       "8  {'Page_No.': 'Page 22', 'Policy_Name': 'Princi...   \n",
       "5  {'Page_No.': 'Page 6', 'Policy_Name': 'Princip...   \n",
       "\n",
       "                                           Documents  Distances     IDs  \\\n",
       "4  c . a copy of the form which contains the stat...   1.075677  ids-15   \n",
       "3  PRINCIPAL LIFE INSURANCE COMPANY (called The P...   0.970175   ids-2   \n",
       "2  T he Principal may terminate the Policyholder'...   0.943317  ids-21   \n",
       "1  T he Principal has complete discretion to cons...   0.911736  ids-16   \n",
       "9  Section C - Policy Termination Article 1 - Fai...   1.185161  ids-20   \n",
       "0  PART II - POLICY ADMINISTRATION Section A - Co...   0.842683  ids-13   \n",
       "6  POLICY RIDER GROUP INSURANCE POLICY NO: S655 C...   1.098731   ids-1   \n",
       "7  provided The Principal has been notified of th...   1.131059  ids-31   \n",
       "8  The number of Members insured for Dependent Li...   1.183612  ids-19   \n",
       "5  TABLE OF CONTENTS PART I - DEFINITIONS PART II...   1.098102   ids-3   \n",
       "\n",
       "   Reranked_scores  \n",
       "4         3.259711  \n",
       "3         2.495432  \n",
       "2         2.420164  \n",
       "1         1.704200  \n",
       "9         1.591796  \n",
       "0         1.171242  \n",
       "6         0.732674  \n",
       "7        -1.146379  \n",
       "8        -2.804210  \n",
       "5        -7.279094  "
      ]
     },
     "execution_count": 48,
     "metadata": {},
     "output_type": "execute_result"
    }
   ],
   "source": [
    "reranker_docs"
   ]
  },
  {
   "cell_type": "markdown",
   "metadata": {},
   "source": [
    "## response"
   ]
  },
  {
   "cell_type": "code",
   "execution_count": 51,
   "metadata": {},
   "outputs": [],
   "source": [
    "from app.helpmateAI.services.generate import response_generator\n",
    "# query = \"what is death policy\"\n",
    "# query = \"What purpose do the Certificates serve regarding insurance?\"\n",
    "query = \"When can The Principal inspect the Policyholder records related to the Group Policy?\"\n",
    "response = response_generator(query=query, top_3_RAG=top_3_docs, api_key=api_key)"
   ]
  },
  {
   "cell_type": "code",
   "execution_count": 52,
   "metadata": {},
   "outputs": [
    {
     "data": {
      "text/plain": [
       "['Based on the provided search results, the Principal may inspect the Policyholder records related to the Group Policy as mentioned in the document.',\n",
       " '',\n",
       " 'According to the document, \"The Principal may terminate the Policyholder\\'s rights under this Policy if, in its reasonable opinion, such action is necessary to avoid any liability or cost which may be incurred by the Principal.\" (Source: Page 24, Policy Name: \"Principal Executive Life Assurance Corporation\").',\n",
       " '',\n",
       " 'The relevant policy name and page number are:',\n",
       " '',\n",
       " '* Policy Name: \"Principal Executive Life Assurance Corporation\"',\n",
       " '* Page Number: 24',\n",
       " '',\n",
       " 'This information answers the query directly. I hope this is accurate and helpful.']"
      ]
     },
     "execution_count": 52,
     "metadata": {},
     "output_type": "execute_result"
    }
   ],
   "source": [
    "response"
   ]
  },
  {
   "cell_type": "markdown",
   "metadata": {},
   "source": [
    "## result"
   ]
  },
  {
   "cell_type": "code",
   "execution_count": 54,
   "metadata": {},
   "outputs": [],
   "source": [
    "def get_top_3_docs(query: str):\n",
    "\n",
    "    cache_results = cache_collection.query(\n",
    "        query_texts=[query],\n",
    "        n_results=1\n",
    "    )\n",
    "\n",
    "    result_df = generate_cache_initialized_dataframe(query=query,\n",
    "                                        threshold=0.2,\n",
    "                                        chromadb_obj=chromadb_collection,\n",
    "                                        cache_query_results=cache_results,\n",
    "                                        cache_collector_obj=cache_collection,\n",
    "                                        )\n",
    "\n",
    "    reranker_score = sentence_cross_encoder(result_dataframe=result_df,\n",
    "                                            query=query)\n",
    "\n",
    "    top_3_docs, _ = top_3_relevant_documents(cross_rerank_scores=reranker_score,result_df=result_df)\n",
    "\n",
    "    return top_3_docs"
   ]
  },
  {
   "cell_type": "code",
   "execution_count": 60,
   "metadata": {},
   "outputs": [
    {
     "name": "stdout",
     "output_type": "stream",
     "text": [
      "Not found in cache. Found in main collections\n"
     ]
    }
   ],
   "source": [
    "query = \"What information must the Policyholder provide to The Principal upon request?\"\n",
    "\n",
    "top_3_docs = get_top_3_docs(query=query)"
   ]
  },
  {
   "cell_type": "code",
   "execution_count": 66,
   "metadata": {},
   "outputs": [
    {
     "data": {
      "text/html": [
       "<div>\n",
       "<style scoped>\n",
       "    .dataframe tbody tr th:only-of-type {\n",
       "        vertical-align: middle;\n",
       "    }\n",
       "\n",
       "    .dataframe tbody tr th {\n",
       "        vertical-align: top;\n",
       "    }\n",
       "\n",
       "    .dataframe thead th {\n",
       "        text-align: right;\n",
       "    }\n",
       "</style>\n",
       "<table border=\"1\" class=\"dataframe\">\n",
       "  <thead>\n",
       "    <tr style=\"text-align: right;\">\n",
       "      <th></th>\n",
       "      <th>Documents</th>\n",
       "      <th>Metadatas</th>\n",
       "    </tr>\n",
       "  </thead>\n",
       "  <tbody>\n",
       "    <tr>\n",
       "      <th>1</th>\n",
       "      <td>c . a copy of the form which contains the stat...</td>\n",
       "      <td>{'Page_No.': 'Page 18', 'Policy_Name': 'Princi...</td>\n",
       "    </tr>\n",
       "    <tr>\n",
       "      <th>4</th>\n",
       "      <td>T he Principal may terminate the Policyholder'...</td>\n",
       "      <td>{'Page_No.': 'Page 24', 'Policy_Name': 'Princi...</td>\n",
       "    </tr>\n",
       "    <tr>\n",
       "      <th>0</th>\n",
       "      <td>PART II - POLICY ADMINISTRATION Section A - Co...</td>\n",
       "      <td>{'Page_No.': 'Page 16', 'Policy_Name': 'Princi...</td>\n",
       "    </tr>\n",
       "  </tbody>\n",
       "</table>\n",
       "</div>"
      ],
      "text/plain": [
       "                                           Documents  \\\n",
       "1  c . a copy of the form which contains the stat...   \n",
       "4  T he Principal may terminate the Policyholder'...   \n",
       "0  PART II - POLICY ADMINISTRATION Section A - Co...   \n",
       "\n",
       "                                           Metadatas  \n",
       "1  {'Page_No.': 'Page 18', 'Policy_Name': 'Princi...  \n",
       "4  {'Page_No.': 'Page 24', 'Policy_Name': 'Princi...  \n",
       "0  {'Page_No.': 'Page 16', 'Policy_Name': 'Princi...  "
      ]
     },
     "execution_count": 66,
     "metadata": {},
     "output_type": "execute_result"
    }
   ],
   "source": [
    "top_3_docs"
   ]
  },
  {
   "cell_type": "code",
   "execution_count": 74,
   "metadata": {},
   "outputs": [],
   "source": [
    "query = \"What purpose do the Certificates serve regarding insurance?\"\n",
    "response = response_generator(query=query, top_3_RAG=top_3_docs, api_key=api_key)"
   ]
  },
  {
   "cell_type": "code",
   "execution_count": 83,
   "metadata": {},
   "outputs": [
    {
     "data": {
      "text/plain": [
       "[\"The certificates in an insurance policy serve as a proof of policy ownership and coverage. They typically provide essential details about the policy, such as the policyholder's name, the policy's coverage limits, and the effective dates.\",\n",
       " '',\n",
       " 'According to the documents provided, it is evident that certificates are issued to provide a summary of the policy terms and conditions. For instance, Certificate No. 1, found on Page 18 of the \"Principal\" policy, contains a copy of the form that specifies the statistics and details of the policy.',\n",
       " '',\n",
       " 'Table 1: Key information from Certificate No. 1',\n",
       " '',\n",
       " '| Policy Details | Information |',\n",
       " '| --- | --- |',\n",
       " '| Policyholder Name | [Name] |',\n",
       " '| Coverage Limits | [Amount] |',\n",
       " '| Effective Dates | [Start Date] - [End Date] |',\n",
       " '',\n",
       " 'Policy Names and Page Numbers:',\n",
       " '',\n",
       " '* \"Principal\" policy: Page 18',\n",
       " '* [Additional policies with certificates mentioned but not found in this snippet]',\n",
       " '',\n",
       " 'Please refer to these sections of the policy documents to learn more about the role of certificates in insurance.']"
      ]
     },
     "execution_count": 83,
     "metadata": {},
     "output_type": "execute_result"
    }
   ],
   "source": [
    "response"
   ]
  },
  {
   "cell_type": "code",
   "execution_count": null,
   "metadata": {},
   "outputs": [],
   "source": [
    "# query = \"what is death policy\"\n",
    "# query = \"What purpose do the Certificates serve regarding insurance?\"\n",
    "# query = \"What information must the Policyholder provide to The Principal upon request?\""
   ]
  }
 ],
 "metadata": {
  "kernelspec": {
   "display_name": ".venv",
   "language": "python",
   "name": "python3"
  },
  "language_info": {
   "codemirror_mode": {
    "name": "ipython",
    "version": 3
   },
   "file_extension": ".py",
   "mimetype": "text/x-python",
   "name": "python",
   "nbconvert_exporter": "python",
   "pygments_lexer": "ipython3",
   "version": "3.12.3"
  }
 },
 "nbformat": 4,
 "nbformat_minor": 2
}
